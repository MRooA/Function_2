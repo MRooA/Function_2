{
 "cells": [
  {
   "cell_type": "code",
   "execution_count": 11,
   "id": "cabaf769-9993-4354-95f6-12d577edbb34",
   "metadata": {},
   "outputs": [
    {
     "name": "stdout",
     "output_type": "stream",
     "text": [
      "[[('Sachin Tendulkar', 34357), ('Ricky Ponting', 27483), ('Jack Kallis', 25534), ('Virat Kohli', 24936)]]\n"
     ]
    }
   ],
   "source": [
    "'''Q1. Create a python program to sort the given list of tuples based on integer value using a\n",
    "lambda function.'''\n",
    "\n",
    "data = [[('Sachin Tendulkar', 34357), ('Ricky Ponting', 27483), ('Jack Kallis', 25534), ('Virat Kohli', 24936)]]\n",
    "\n",
    "sorted_data = sorted(data, key=lambda x: x[1])\n",
    "\n",
    "print(sorted_data)\n"
   ]
  },
  {
   "cell_type": "code",
   "execution_count": 13,
   "id": "6bccaf27-e444-4762-abfa-d61415666b81",
   "metadata": {},
   "outputs": [
    {
     "name": "stdout",
     "output_type": "stream",
     "text": [
      "[1, 4, 9, 16, 25, 36, 49, 64, 81, 100]\n"
     ]
    }
   ],
   "source": [
    "'''Q2. Write a Python Program to find the squares of all the numbers in the given list of integers using\n",
    "lambda and map functions.\n",
    "[1, 2, 3, 4, 5, 6, 7, 8, 9, 10]'''\n",
    "\n",
    "numbers = [1, 2, 3, 4, 5, 6, 7, 8, 9, 10]\n",
    "\n",
    "squares = list(map(lambda x: x**2, numbers))\n",
    "\n",
    "print(squares)\n"
   ]
  },
  {
   "cell_type": "code",
   "execution_count": 15,
   "id": "082abe82-6391-4783-bdcc-79e90c607173",
   "metadata": {},
   "outputs": [
    {
     "data": {
      "text/plain": [
       "'Q3. Write a python program to convert the given list of integers into a tuple of strings. Use map and\\nlambda functions'"
      ]
     },
     "execution_count": 15,
     "metadata": {},
     "output_type": "execute_result"
    }
   ],
   "source": [
    "'''Q3. Write a python program to convert the given list of integers into a tuple of strings. Use map and\n",
    "lambda functions'''\n",
    "\n"
   ]
  },
  {
   "cell_type": "code",
   "execution_count": 17,
   "id": "059675ad-15dc-4e85-8d36-3130c95ff0ac",
   "metadata": {},
   "outputs": [
    {
     "name": "stdout",
     "output_type": "stream",
     "text": [
      "('1', '2', '3', '4', '5', '6', '7', '8', '9', '10')\n"
     ]
    }
   ],
   "source": [
    "'''Q3. Write a python program to convert the given list of integers into a tuple of strings. Use map and\n",
    "lambda functions\n",
    "Given String: [1, 2, 3, 4, 5, 6, 7, 8, 9, 10]\n",
    "Expected output: ('1', '2', '3', '4', '5', '6', '7', '8', '9', '10')'''\n",
    "\n",
    "numbers = [1, 2, 3, 4, 5, 6, 7, 8, 9, 10]\n",
    "\n",
    "string_tuple = tuple(map(lambda x: str(x), numbers))\n",
    "\n",
    "print(string_tuple)\n",
    "\n"
   ]
  },
  {
   "cell_type": "code",
   "execution_count": 19,
   "id": "68f09d78-1f10-4661-b1e2-007965613a64",
   "metadata": {},
   "outputs": [
    {
     "name": "stdout",
     "output_type": "stream",
     "text": [
      "15511210043330985984000000\n"
     ]
    }
   ],
   "source": [
    "'''Q4. Write a python program using reduce function to compute the product of a list containing numbers\n",
    "from 1 to 25.'''\n",
    "\n",
    "from functools import reduce\n",
    "\n",
    "numbers = list(range(1, 26))\n",
    "\n",
    "product = reduce(lambda x, y: x * y, numbers)\n",
    "\n",
    "print(product)\n"
   ]
  },
  {
   "cell_type": "code",
   "execution_count": 23,
   "id": "c45303ab-3196-4910-9012-cabe4608dadb",
   "metadata": {},
   "outputs": [
    {
     "name": "stdout",
     "output_type": "stream",
     "text": [
      "[6, 60, 90, 120]\n"
     ]
    }
   ],
   "source": [
    "'''Q5. Write a python program to filter the numbers in a given list that are divisible by 2 and 3 using the\n",
    "filter function.\n",
    "[2, 3, 6, 9, 27, 60, 90, 120, 55, 46]'''\n",
    "\n",
    "numbers = [2, 3, 6, 9, 27, 60, 90, 120, 55, 46]\n",
    "\n",
    "filtered_numbers = list(filter(lambda x: x % 2 == 0 and x % 3 == 0, numbers))\n",
    "\n",
    "print(filtered_numbers)\n"
   ]
  },
  {
   "cell_type": "code",
   "execution_count": 1,
   "id": "f8406c7c-e944-4f91-b749-ac03912df945",
   "metadata": {},
   "outputs": [
    {
     "name": "stdout",
     "output_type": "stream",
     "text": [
      "Palindromes in the list: ['php', 'aba', 'radar', 'level']\n"
     ]
    }
   ],
   "source": [
    "'''Q6. Write a python program to find palindromes in the given list of strings using lambda and filter\n",
    "function.\n",
    "['python', 'php', 'aba', 'radar', 'level']'''\n",
    "\n",
    "strings = ['python', 'php', 'aba', 'radar', 'level']\n",
    "\n",
    "# Define a lambda function to check if a string is a palindrome\n",
    "is_palindrome = lambda s: s == s[::-1]\n",
    "\n",
    "# Use the filter function to filter the list based on the palindrome check\n",
    "palindromes = list(filter(is_palindrome, strings))\n",
    "\n",
    "# Print the palindromes\n",
    "print(f\"Palindromes in the list: {palindromes}\")\n"
   ]
  },
  {
   "cell_type": "code",
   "execution_count": null,
   "id": "1cd4b1dd-3999-4671-9f5a-6bf6a9189e21",
   "metadata": {},
   "outputs": [],
   "source": []
  }
 ],
 "metadata": {
  "kernelspec": {
   "display_name": "Python 3 (ipykernel)",
   "language": "python",
   "name": "python3"
  },
  "language_info": {
   "codemirror_mode": {
    "name": "ipython",
    "version": 3
   },
   "file_extension": ".py",
   "mimetype": "text/x-python",
   "name": "python",
   "nbconvert_exporter": "python",
   "pygments_lexer": "ipython3",
   "version": "3.12.7"
  }
 },
 "nbformat": 4,
 "nbformat_minor": 5
}
